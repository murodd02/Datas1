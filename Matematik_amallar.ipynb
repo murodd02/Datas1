{
  "nbformat": 4,
  "nbformat_minor": 0,
  "metadata": {
    "colab": {
      "provenance": [],
      "authorship_tag": "ABX9TyNY9SF4ayjUO6RoSVjVn052",
      "include_colab_link": true
    },
    "kernelspec": {
      "name": "python3",
      "display_name": "Python 3"
    },
    "language_info": {
      "name": "python"
    }
  },
  "cells": [
    {
      "cell_type": "markdown",
      "metadata": {
        "id": "view-in-github",
        "colab_type": "text"
      },
      "source": [
        "<a href=\"https://colab.research.google.com/github/murodd02/Datas1/blob/main/Matematik_amallar.ipynb\" target=\"_parent\"><img src=\"https://colab.research.google.com/assets/colab-badge.svg\" alt=\"Open In Colab\"/></a>"
      ]
    },
    {
      "cell_type": "code",
      "execution_count": 43,
      "metadata": {
        "id": "bV-aEsM72-_B"
      },
      "outputs": [],
      "source": [
        "import numpy as np"
      ]
    },
    {
      "cell_type": "code",
      "source": [
        "arr = np.random.randn(6,5)\n",
        "arr"
      ],
      "metadata": {
        "colab": {
          "base_uri": "https://localhost:8080/"
        },
        "id": "ZtwZPSLoC8Na",
        "outputId": "30f13279-4a43-4bd4-8a5c-edbd16fc7187"
      },
      "execution_count": 45,
      "outputs": [
        {
          "output_type": "execute_result",
          "data": {
            "text/plain": [
              "array([[ 0.72210634,  3.0741604 ,  0.38505818,  1.17307561,  0.13890103],\n",
              "       [-0.85405972,  0.40141703,  0.73258419,  1.03841388, -1.09677516],\n",
              "       [-0.09747939, -0.29601554, -0.63092586,  0.49780899,  1.09188562],\n",
              "       [ 1.64314064,  0.40090428,  0.51970874,  0.33049507, -0.38737137],\n",
              "       [ 0.40136336, -0.08388575, -0.30150263,  1.38531547,  2.58278354],\n",
              "       [-1.61405692, -0.20451658, -0.77981832, -0.01371355, -1.78373027]])"
            ]
          },
          "metadata": {},
          "execution_count": 45
        }
      ]
    },
    {
      "cell_type": "code",
      "source": [
        "arr.sum()"
      ],
      "metadata": {
        "colab": {
          "base_uri": "https://localhost:8080/"
        },
        "id": "OhgEdQWaDC6C",
        "outputId": "e02acb9c-1a3d-4ab7-d8d5-b811318505ef"
      },
      "execution_count": 46,
      "outputs": [
        {
          "output_type": "execute_result",
          "data": {
            "text/plain": [
              "8.375271309500809"
            ]
          },
          "metadata": {},
          "execution_count": 46
        }
      ]
    },
    {
      "cell_type": "code",
      "source": [
        "data = np.arange(7)\n",
        "data"
      ],
      "metadata": {
        "colab": {
          "base_uri": "https://localhost:8080/"
        },
        "id": "_k8jejTgDISV",
        "outputId": "2fe1589e-087e-4533-84b9-fe67cc8d7d36"
      },
      "execution_count": 47,
      "outputs": [
        {
          "output_type": "execute_result",
          "data": {
            "text/plain": [
              "array([0, 1, 2, 3, 4, 5, 6])"
            ]
          },
          "metadata": {},
          "execution_count": 47
        }
      ]
    },
    {
      "cell_type": "code",
      "source": [
        "mean = np.sum(data)/len(data)\n",
        "mean"
      ],
      "metadata": {
        "colab": {
          "base_uri": "https://localhost:8080/"
        },
        "id": "YMt2l0HfG7cW",
        "outputId": "db279a6b-e569-4a07-9a52-ca69a96cb405"
      },
      "execution_count": 48,
      "outputs": [
        {
          "output_type": "execute_result",
          "data": {
            "text/plain": [
              "3.0"
            ]
          },
          "metadata": {},
          "execution_count": 48
        }
      ]
    },
    {
      "cell_type": "code",
      "source": [
        "data.mean()"
      ],
      "metadata": {
        "colab": {
          "base_uri": "https://localhost:8080/"
        },
        "id": "cPPpXW2eHFrt",
        "outputId": "38e61548-8902-4644-85d3-bdc86f6e32ca"
      },
      "execution_count": 49,
      "outputs": [
        {
          "output_type": "execute_result",
          "data": {
            "text/plain": [
              "3.0"
            ]
          },
          "metadata": {},
          "execution_count": 49
        }
      ]
    },
    {
      "cell_type": "code",
      "source": [
        "arr"
      ],
      "metadata": {
        "colab": {
          "base_uri": "https://localhost:8080/"
        },
        "id": "dqw45mV2HKSo",
        "outputId": "905f99c6-e85d-4e14-932e-8f04aaeab695"
      },
      "execution_count": 50,
      "outputs": [
        {
          "output_type": "execute_result",
          "data": {
            "text/plain": [
              "array([[ 0.72210634,  3.0741604 ,  0.38505818,  1.17307561,  0.13890103],\n",
              "       [-0.85405972,  0.40141703,  0.73258419,  1.03841388, -1.09677516],\n",
              "       [-0.09747939, -0.29601554, -0.63092586,  0.49780899,  1.09188562],\n",
              "       [ 1.64314064,  0.40090428,  0.51970874,  0.33049507, -0.38737137],\n",
              "       [ 0.40136336, -0.08388575, -0.30150263,  1.38531547,  2.58278354],\n",
              "       [-1.61405692, -0.20451658, -0.77981832, -0.01371355, -1.78373027]])"
            ]
          },
          "metadata": {},
          "execution_count": 50
        }
      ]
    },
    {
      "cell_type": "code",
      "source": [
        "arr.mean()"
      ],
      "metadata": {
        "colab": {
          "base_uri": "https://localhost:8080/"
        },
        "id": "nLI3f3whHUut",
        "outputId": "dfb56410-ef5c-41e4-fc5f-2cb336577b95"
      },
      "execution_count": 51,
      "outputs": [
        {
          "output_type": "execute_result",
          "data": {
            "text/plain": [
              "0.27917571031669364"
            ]
          },
          "metadata": {},
          "execution_count": 51
        }
      ]
    },
    {
      "cell_type": "code",
      "source": [
        "np.mean(arr, axis=1)"
      ],
      "metadata": {
        "colab": {
          "base_uri": "https://localhost:8080/"
        },
        "id": "hVwiPs2tHYE4",
        "outputId": "b89f7154-2107-440f-d2c7-a6b9fb82ac89"
      },
      "execution_count": 52,
      "outputs": [
        {
          "output_type": "execute_result",
          "data": {
            "text/plain": [
              "array([ 1.09866031,  0.04431604,  0.11305476,  0.50137547,  0.7968148 ,\n",
              "       -0.87916713])"
            ]
          },
          "metadata": {},
          "execution_count": 52
        }
      ]
    },
    {
      "cell_type": "code",
      "source": [
        "arr.mean(axis=0)"
      ],
      "metadata": {
        "colab": {
          "base_uri": "https://localhost:8080/"
        },
        "id": "6yHtKT-oHfI4",
        "outputId": "8a161fd6-b67f-48d9-fb8c-93f3ea6182de"
      },
      "execution_count": 53,
      "outputs": [
        {
          "output_type": "execute_result",
          "data": {
            "text/plain": [
              "array([ 0.03350239,  0.54867731, -0.01248262,  0.73523258,  0.0909489 ])"
            ]
          },
          "metadata": {},
          "execution_count": 53
        }
      ]
    },
    {
      "cell_type": "code",
      "source": [
        "data.cumsum()"
      ],
      "metadata": {
        "colab": {
          "base_uri": "https://localhost:8080/"
        },
        "id": "6nylz0UgIAt2",
        "outputId": "cf5ed5a8-c7c7-47c3-df58-6284ed2f01c4"
      },
      "execution_count": 54,
      "outputs": [
        {
          "output_type": "execute_result",
          "data": {
            "text/plain": [
              "array([ 0,  1,  3,  6, 10, 15, 21])"
            ]
          },
          "metadata": {},
          "execution_count": 54
        }
      ]
    },
    {
      "cell_type": "code",
      "source": [],
      "metadata": {
        "id": "mL2-I2lwISsV"
      },
      "execution_count": null,
      "outputs": []
    }
  ]
}