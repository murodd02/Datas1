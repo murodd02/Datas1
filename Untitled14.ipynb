{
  "nbformat": 4,
  "nbformat_minor": 0,
  "metadata": {
    "colab": {
      "provenance": [],
      "authorship_tag": "ABX9TyPcazWQjAzUcD3IKZsz8f/d",
      "include_colab_link": true
    },
    "kernelspec": {
      "name": "python3",
      "display_name": "Python 3"
    },
    "language_info": {
      "name": "python"
    }
  },
  "cells": [
    {
      "cell_type": "markdown",
      "metadata": {
        "id": "view-in-github",
        "colab_type": "text"
      },
      "source": [
        "<a href=\"https://colab.research.google.com/github/murodd02/Datas1/blob/main/Untitled14.ipynb\" target=\"_parent\"><img src=\"https://colab.research.google.com/assets/colab-badge.svg\" alt=\"Open In Colab\"/></a>"
      ]
    },
    {
      "cell_type": "code",
      "execution_count": 2,
      "metadata": {
        "id": "ZtDlJpSiib5w"
      },
      "outputs": [],
      "source": [
        "import numpy as np"
      ]
    },
    {
      "cell_type": "code",
      "source": [
        "arr = np.arange(9)\n",
        "arr"
      ],
      "metadata": {
        "colab": {
          "base_uri": "https://localhost:8080/"
        },
        "id": "CSC9RSoEjL_v",
        "outputId": "0780bd58-aaa7-4848-e658-e1fbbf16b996"
      },
      "execution_count": 3,
      "outputs": [
        {
          "output_type": "execute_result",
          "data": {
            "text/plain": [
              "array([0, 1, 2, 3, 4, 5, 6, 7, 8])"
            ]
          },
          "metadata": {},
          "execution_count": 3
        }
      ]
    },
    {
      "cell_type": "code",
      "source": [
        "arr[2:6]"
      ],
      "metadata": {
        "colab": {
          "base_uri": "https://localhost:8080/"
        },
        "id": "vsK_Uvdbok2u",
        "outputId": "139654fc-1951-4bfa-8dc3-fc4099ae1a34"
      },
      "execution_count": 6,
      "outputs": [
        {
          "output_type": "execute_result",
          "data": {
            "text/plain": [
              "array([2, 3, 4, 5])"
            ]
          },
          "metadata": {},
          "execution_count": 6
        }
      ]
    },
    {
      "cell_type": "code",
      "source": [
        "sliced_arr = arr[3:5]\n",
        "sliced_arr[:] = 0\n",
        "sliced_arr"
      ],
      "metadata": {
        "colab": {
          "base_uri": "https://localhost:8080/"
        },
        "id": "rNbnzpK4o2Pa",
        "outputId": "2ddee503-4e6f-42b2-fd9b-ec408dbb000c"
      },
      "execution_count": 9,
      "outputs": [
        {
          "output_type": "execute_result",
          "data": {
            "text/plain": [
              "array([0, 0])"
            ]
          },
          "metadata": {},
          "execution_count": 9
        }
      ]
    },
    {
      "cell_type": "code",
      "source": [
        "arr"
      ],
      "metadata": {
        "colab": {
          "base_uri": "https://localhost:8080/"
        },
        "id": "mtOV_LA-p9dp",
        "outputId": "8833bd09-4b38-406c-dbee-cfa91639e844"
      },
      "execution_count": 10,
      "outputs": [
        {
          "output_type": "execute_result",
          "data": {
            "text/plain": [
              "array([0, 1, 2, 0, 0, 5, 6, 7, 8])"
            ]
          },
          "metadata": {},
          "execution_count": 10
        }
      ]
    },
    {
      "cell_type": "code",
      "source": [
        "arr2 = np.array([[1,2,3],[6,5,4],[2,3,4]])\n",
        "arr2"
      ],
      "metadata": {
        "colab": {
          "base_uri": "https://localhost:8080/"
        },
        "id": "t_rDVu4sp_Rw",
        "outputId": "1765bef5-a95e-48fd-da71-116428370376"
      },
      "execution_count": 11,
      "outputs": [
        {
          "output_type": "execute_result",
          "data": {
            "text/plain": [
              "array([[1, 2, 3],\n",
              "       [6, 5, 4],\n",
              "       [2, 3, 4]])"
            ]
          },
          "metadata": {},
          "execution_count": 11
        }
      ]
    },
    {
      "cell_type": "code",
      "source": [
        "arr2[2,0:]"
      ],
      "metadata": {
        "colab": {
          "base_uri": "https://localhost:8080/"
        },
        "id": "gDIxHZMcrPIC",
        "outputId": "abd62c18-bc76-4cb3-bd63-9832ba1df50c"
      },
      "execution_count": 12,
      "outputs": [
        {
          "output_type": "execute_result",
          "data": {
            "text/plain": [
              "array([2, 3, 4])"
            ]
          },
          "metadata": {},
          "execution_count": 12
        }
      ]
    },
    {
      "cell_type": "code",
      "source": [
        "arr3 = np.array([[[1,2,3,2],\n",
        "                  [2,1,3,4],\n",
        "                  [1,2,7,8]],\n",
        "                 [[9,8,7,6],\n",
        "                  [5,3,2,3],\n",
        "                  [4,3,3,2]],\n",
        "                 [[1,2,3,4],\n",
        "                  [6,5,4,4],\n",
        "                  [2,5,7,8]]])\n",
        "arr3"
      ],
      "metadata": {
        "colab": {
          "base_uri": "https://localhost:8080/"
        },
        "id": "susoIag9rUTj",
        "outputId": "edc75387-a20a-4436-9c58-ffa9a90ff982"
      },
      "execution_count": 14,
      "outputs": [
        {
          "output_type": "execute_result",
          "data": {
            "text/plain": [
              "array([[[1, 2, 3, 2],\n",
              "        [2, 1, 3, 4],\n",
              "        [1, 2, 7, 8]],\n",
              "\n",
              "       [[9, 8, 7, 6],\n",
              "        [5, 3, 2, 3],\n",
              "        [4, 3, 3, 2]],\n",
              "\n",
              "       [[1, 2, 3, 4],\n",
              "        [6, 5, 4, 4],\n",
              "        [2, 5, 7, 8]]])"
            ]
          },
          "metadata": {},
          "execution_count": 14
        }
      ]
    },
    {
      "cell_type": "code",
      "source": [
        "arr3[2][1,1:]"
      ],
      "metadata": {
        "colab": {
          "base_uri": "https://localhost:8080/"
        },
        "id": "mNNINEW9tWYC",
        "outputId": "f50584da-9b8f-4619-fbe7-66e8a97bc303"
      },
      "execution_count": 17,
      "outputs": [
        {
          "output_type": "execute_result",
          "data": {
            "text/plain": [
              "array([5, 4, 4])"
            ]
          },
          "metadata": {},
          "execution_count": 17
        }
      ]
    },
    {
      "cell_type": "code",
      "source": [
        "arr3.ndim"
      ],
      "metadata": {
        "colab": {
          "base_uri": "https://localhost:8080/"
        },
        "id": "DtiKv_SDtkv4",
        "outputId": "9bbb473b-58f8-4867-d734-4a492d070bc2"
      },
      "execution_count": 16,
      "outputs": [
        {
          "output_type": "execute_result",
          "data": {
            "text/plain": [
              "3"
            ]
          },
          "metadata": {},
          "execution_count": 16
        }
      ]
    },
    {
      "cell_type": "code",
      "source": [
        "names = np.array(['Husan','Hasan','Vali','Ali','Olim','Hasan','Sunnat','Hasan'])\n",
        "names"
      ],
      "metadata": {
        "colab": {
          "base_uri": "https://localhost:8080/"
        },
        "id": "A96ofPOVttDU",
        "outputId": "63fe5ec1-128f-44d4-dba4-36cb34c3b922"
      },
      "execution_count": 18,
      "outputs": [
        {
          "output_type": "execute_result",
          "data": {
            "text/plain": [
              "array(['Husan', 'Hasan', 'Vali', 'Ali', 'Olim', 'Hasan', 'Sunnat',\n",
              "       'Hasan'], dtype='<U6')"
            ]
          },
          "metadata": {},
          "execution_count": 18
        }
      ]
    },
    {
      "cell_type": "code",
      "source": [
        "data = np.random.randn(8,4)\n",
        "data"
      ],
      "metadata": {
        "colab": {
          "base_uri": "https://localhost:8080/"
        },
        "id": "5K8XQI8CuoZ7",
        "outputId": "b554397f-ffda-44af-d5c1-5d302688f9a5"
      },
      "execution_count": 20,
      "outputs": [
        {
          "output_type": "execute_result",
          "data": {
            "text/plain": [
              "array([[-1.24902682, -1.26170211,  1.05316394,  0.83579691],\n",
              "       [ 3.4695372 ,  0.43817077, -0.88508457,  0.59033936],\n",
              "       [ 0.29671902,  0.38571614, -0.91882108, -1.00448244],\n",
              "       [ 0.51661739,  1.30136716,  0.94897726,  0.99218112],\n",
              "       [-1.57978156,  0.25336217, -0.07614986,  0.13657263],\n",
              "       [-1.30365027, -0.31615898, -1.00826404, -0.77037855],\n",
              "       [-1.05938033, -1.50159628,  0.81916734, -0.19596517],\n",
              "       [ 0.52123891,  0.84663115,  1.27032888,  1.85224901]])"
            ]
          },
          "metadata": {},
          "execution_count": 20
        }
      ]
    },
    {
      "cell_type": "code",
      "source": [
        "names =='Hasan'"
      ],
      "metadata": {
        "colab": {
          "base_uri": "https://localhost:8080/"
        },
        "id": "bI804eyOu0S7",
        "outputId": "6d48f1c5-39ae-4dcb-eb13-e847741cd1e9"
      },
      "execution_count": 21,
      "outputs": [
        {
          "output_type": "execute_result",
          "data": {
            "text/plain": [
              "array([False,  True, False, False, False,  True, False,  True])"
            ]
          },
          "metadata": {},
          "execution_count": 21
        }
      ]
    },
    {
      "cell_type": "code",
      "source": [
        "data[names == 'Hasan']"
      ],
      "metadata": {
        "colab": {
          "base_uri": "https://localhost:8080/"
        },
        "id": "X1mdNKtgu-tJ",
        "outputId": "f99fa019-5b26-4b07-fbbe-a5d92af43142"
      },
      "execution_count": 22,
      "outputs": [
        {
          "output_type": "execute_result",
          "data": {
            "text/plain": [
              "array([[ 3.4695372 ,  0.43817077, -0.88508457,  0.59033936],\n",
              "       [-1.30365027, -0.31615898, -1.00826404, -0.77037855],\n",
              "       [ 0.52123891,  0.84663115,  1.27032888,  1.85224901]])"
            ]
          },
          "metadata": {},
          "execution_count": 22
        }
      ]
    },
    {
      "cell_type": "code",
      "source": [
        "data[names == 'Vali']"
      ],
      "metadata": {
        "colab": {
          "base_uri": "https://localhost:8080/"
        },
        "id": "ETkmn8-FvL67",
        "outputId": "792cda96-d7e5-454c-d6e6-83a70cc7ff5d"
      },
      "execution_count": 23,
      "outputs": [
        {
          "output_type": "execute_result",
          "data": {
            "text/plain": [
              "array([[ 0.29671902,  0.38571614, -0.91882108, -1.00448244]])"
            ]
          },
          "metadata": {},
          "execution_count": 23
        }
      ]
    },
    {
      "cell_type": "code",
      "source": [
        "data[names=='Hasan', 2:]"
      ],
      "metadata": {
        "colab": {
          "base_uri": "https://localhost:8080/"
        },
        "id": "p5kG2BQEvUyr",
        "outputId": "a61ffce8-935b-4751-9fa2-bf097d78de09"
      },
      "execution_count": 25,
      "outputs": [
        {
          "output_type": "execute_result",
          "data": {
            "text/plain": [
              "array([[-0.88508457,  0.59033936],\n",
              "       [-1.00826404, -0.77037855],\n",
              "       [ 1.27032888,  1.85224901]])"
            ]
          },
          "metadata": {},
          "execution_count": 25
        }
      ]
    },
    {
      "cell_type": "code",
      "source": [
        "data[names=='Hasan']"
      ],
      "metadata": {
        "colab": {
          "base_uri": "https://localhost:8080/"
        },
        "id": "tsseo1S8virK",
        "outputId": "0811f98e-9598-4e49-add3-d91b95fe2e50"
      },
      "execution_count": 26,
      "outputs": [
        {
          "output_type": "execute_result",
          "data": {
            "text/plain": [
              "array([[ 3.4695372 ,  0.43817077, -0.88508457,  0.59033936],\n",
              "       [-1.30365027, -0.31615898, -1.00826404, -0.77037855],\n",
              "       [ 0.52123891,  0.84663115,  1.27032888,  1.85224901]])"
            ]
          },
          "metadata": {},
          "execution_count": 26
        }
      ]
    },
    {
      "cell_type": "code",
      "source": [
        "data[names!='Hasan']"
      ],
      "metadata": {
        "colab": {
          "base_uri": "https://localhost:8080/"
        },
        "id": "ZfCMzXx6vssE",
        "outputId": "2f1ca2d8-3461-4555-fd76-b5bc9a337c39"
      },
      "execution_count": 27,
      "outputs": [
        {
          "output_type": "execute_result",
          "data": {
            "text/plain": [
              "array([[-1.24902682, -1.26170211,  1.05316394,  0.83579691],\n",
              "       [ 0.29671902,  0.38571614, -0.91882108, -1.00448244],\n",
              "       [ 0.51661739,  1.30136716,  0.94897726,  0.99218112],\n",
              "       [-1.57978156,  0.25336217, -0.07614986,  0.13657263],\n",
              "       [-1.05938033, -1.50159628,  0.81916734, -0.19596517]])"
            ]
          },
          "metadata": {},
          "execution_count": 27
        }
      ]
    },
    {
      "cell_type": "code",
      "source": [
        "data[~(names=='Hasan')]"
      ],
      "metadata": {
        "colab": {
          "base_uri": "https://localhost:8080/"
        },
        "id": "V_oDztpHwS8_",
        "outputId": "eb731242-db78-4fe5-aad8-b2ca068a041a"
      },
      "execution_count": 28,
      "outputs": [
        {
          "output_type": "execute_result",
          "data": {
            "text/plain": [
              "array([[-1.24902682, -1.26170211,  1.05316394,  0.83579691],\n",
              "       [ 0.29671902,  0.38571614, -0.91882108, -1.00448244],\n",
              "       [ 0.51661739,  1.30136716,  0.94897726,  0.99218112],\n",
              "       [-1.57978156,  0.25336217, -0.07614986,  0.13657263],\n",
              "       [-1.05938033, -1.50159628,  0.81916734, -0.19596517]])"
            ]
          },
          "metadata": {},
          "execution_count": 28
        }
      ]
    },
    {
      "cell_type": "code",
      "source": [
        "print(names)\n",
        "print(data)"
      ],
      "metadata": {
        "colab": {
          "base_uri": "https://localhost:8080/"
        },
        "id": "i8zcwFm1wqq4",
        "outputId": "8aba4598-df3c-46f1-b5d7-97cbea32925f"
      },
      "execution_count": 29,
      "outputs": [
        {
          "output_type": "stream",
          "name": "stdout",
          "text": [
            "['Husan' 'Hasan' 'Vali' 'Ali' 'Olim' 'Hasan' 'Sunnat' 'Hasan']\n",
            "[[-1.24902682 -1.26170211  1.05316394  0.83579691]\n",
            " [ 3.4695372   0.43817077 -0.88508457  0.59033936]\n",
            " [ 0.29671902  0.38571614 -0.91882108 -1.00448244]\n",
            " [ 0.51661739  1.30136716  0.94897726  0.99218112]\n",
            " [-1.57978156  0.25336217 -0.07614986  0.13657263]\n",
            " [-1.30365027 -0.31615898 -1.00826404 -0.77037855]\n",
            " [-1.05938033 -1.50159628  0.81916734 -0.19596517]\n",
            " [ 0.52123891  0.84663115  1.27032888  1.85224901]]\n"
          ]
        }
      ]
    },
    {
      "cell_type": "code",
      "source": [],
      "metadata": {
        "id": "u79CpNlxw0bW"
      },
      "execution_count": null,
      "outputs": []
    }
  ]
}